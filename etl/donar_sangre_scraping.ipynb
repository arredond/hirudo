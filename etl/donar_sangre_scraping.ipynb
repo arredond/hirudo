{
 "cells": [
  {
   "cell_type": "markdown",
   "id": "published-ivory",
   "metadata": {},
   "source": [
    "# Puntos de donación de sangre de la Comunidad de Madrid"
   ]
  },
  {
   "cell_type": "code",
   "execution_count": 1,
   "id": "loose-tulsa",
   "metadata": {},
   "outputs": [],
   "source": [
    "import json\n",
    "\n",
    "import pandas as pd\n",
    "\n",
    "from tqdm.auto import tqdm\n",
    "from dotenv import load_dotenv\n",
    "\n",
    "from utils.db import format_column, from_db, gdf_from_df, run_query, to_db\n",
    "from utils.geocode import google_geocode_address, get_full_address\n",
    "from utils.crawl import extraer_puntos_fijos, extraer_puntos_moviles, get_gmaps_url"
   ]
  },
  {
   "cell_type": "code",
   "execution_count": 2,
   "id": "impressive-tracker",
   "metadata": {},
   "outputs": [],
   "source": [
    "# Read env variables from .env for local development\n",
    "# In Cloud Functions, env variables must be set in runtime environment directly\n",
    "load_dotenv()\n",
    "\n",
    "with open('../sql/table_to_geojson.sql') as fp:\n",
    "    TABLE_TO_GEOJSON_QUERY = fp.read()"
   ]
  },
  {
   "cell_type": "markdown",
   "id": "wireless-american",
   "metadata": {},
   "source": [
    "## Puntos fijos\n",
    "\n",
    "Los hospitales son fáciles de scrapear pero hay otros tres puntos que aparecen desordenados en [la web](https://www.comunidad.madrid/servicios/salud/donacion-sangre#puntos-donacion).\n",
    "\n",
    "Los metemos a mano"
   ]
  },
  {
   "cell_type": "code",
   "execution_count": 3,
   "id": "affiliated-alias",
   "metadata": {},
   "outputs": [],
   "source": [
    "with open(\"utils/puntos_fijos_no_hospitales.json\", \"rt\", encoding=\"utf-8\") as fp:\n",
    "    puntos_fijos_no_hospitales = json.load(fp)"
   ]
  },
  {
   "cell_type": "markdown",
   "id": "5bc16ec6-c96f-4f33-8b80-c0de8ae5704f",
   "metadata": {},
   "source": [
    "# Puntos Fijos\n",
    "\n",
    "Juntamos los pocos que no salen en la web"
   ]
  },
  {
   "cell_type": "code",
   "execution_count": 4,
   "id": "dd434e92-4817-4c85-91f1-5eafc1935163",
   "metadata": {},
   "outputs": [],
   "source": [
    "df_fijos = extraer_puntos_fijos()\n",
    "df_fijos_keys = pd.DataFrame({'original': df_fijos.columns, 'db': df_fijos.columns.map(format_column)})\n",
    "df_fijos.columns = df_fijos.columns.map(format_column)\n",
    "df_fijos = pd.concat([pd.DataFrame(puntos_fijos_no_hospitales), df_fijos], ignore_index=True)\n",
    "df_fijos['gmaps_url'] = df_fijos.apply(get_gmaps_url, axis=1)\n",
    "\n",
    "gdf_fijos = gdf_from_df(df_fijos)"
   ]
  },
  {
   "cell_type": "markdown",
   "id": "compound-disclaimer",
   "metadata": {},
   "source": [
    "Tenemos que eliminar y recrear la vista de `geojson` dependiente de la tabla de puntos fijos"
   ]
  },
  {
   "cell_type": "code",
   "execution_count": 6,
   "id": "enhanced-poverty",
   "metadata": {},
   "outputs": [],
   "source": [
    "run_query('DROP VIEW IF EXISTS puntos_fijos_geojson')\n",
    "\n",
    "to_db(gdf_fijos, 'puntos_fijos')\n",
    "to_db(df_fijos_keys, 'puntos_fijos_keys')\n",
    "\n",
    "\n",
    "run_query(TABLE_TO_GEOJSON_QUERY.format(t='puntos_fijos'))"
   ]
  },
  {
   "cell_type": "markdown",
   "id": "surprised-parcel",
   "metadata": {},
   "source": [
    "## Puntos móviles\n",
    "\n",
    "Muy similar a los puntos fijos, sólo que no tienen web individual y pillamos todos los atributos de una lista"
   ]
  },
  {
   "cell_type": "code",
   "execution_count": 7,
   "id": "1b5df3b8-304f-4c94-b012-bfaf243fc332",
   "metadata": {},
   "outputs": [],
   "source": [
    "df_moviles = extraer_puntos_moviles()\n",
    "df_moviles.columns = df_moviles.columns.map(format_column)\n",
    "\n",
    "for text in ['Equipo móvil en ', 'E Móvil en ', 'Equipo Móvil detrás ']:\n",
    "    df_moviles['direccion'] = df_moviles['direccion'].map(lambda d: d.replace(text, ''))"
   ]
  },
  {
   "cell_type": "markdown",
   "id": "potential-pursuit",
   "metadata": {},
   "source": [
    "Geocode and upload. We geocode both the `lugar` and `direccion` and keep their scores\n",
    "based on the `location_type` (ROOFTOP, etc).\n",
    "\n",
    "Before geocoding, try to use the cache"
   ]
  },
  {
   "cell_type": "code",
   "execution_count": 8,
   "id": "differential-receiver",
   "metadata": {},
   "outputs": [],
   "source": [
    "try:\n",
    "    geocoding_cache = from_db('geocoding_cache')\n",
    "except Exception:\n",
    "    geocoding_cache = pd.DataFrame(columns=['address', 'longitude', 'latitude', 'location_type', 'score'])"
   ]
  },
  {
   "cell_type": "code",
   "execution_count": 9,
   "id": "saved-chancellor",
   "metadata": {
    "scrolled": true
   },
   "outputs": [
    {
     "data": {
      "application/vnd.jupyter.widget-view+json": {
       "model_id": "15b6847862f040d28d9739132f98192e",
       "version_major": 2,
       "version_minor": 0
      },
      "text/plain": [
       "lugar:   0%|          | 0/84 [00:00<?, ?it/s]"
      ]
     },
     "metadata": {},
     "output_type": "display_data"
    },
    {
     "name": "stdout",
     "output_type": "stream",
     "text": [
      "\"PROCTER, Alcobendas, Community of Madrid, Spain\" not found in cache. Geocoding...\n",
      "\"INDRA- ALCOBENDAS Arroyo de la Vega, Alcobendas, Community of Madrid, Spain\" not found in cache. Geocoding...\n",
      "\"Pª Santa María de la Esperanza, Alcobendas, Community of Madrid, Spain\" not found in cache. Geocoding...\n",
      "\"Avenida de la Libertad (Metro Sur), Alcorcón, Community of Madrid, Spain\" not found in cache. Geocoding...\n",
      "\"Algete (URB. STO DOMINGO), Algete, Community of Madrid, Spain\" not found in cache. Geocoding...\n",
      "\"C/ Stuart, 91 (Ayuntamiento), Aranjuez, Community of Madrid, Spain\" not found in cache. Geocoding...\n",
      "\"C/ Juan Carlos I, 40 (varios puntos), Boadilla del Monte, Community of Madrid, Spain\" not found in cache. Geocoding...\n",
      "\"BUITRAGO DEL LOZOYA, Buitrago del Lozoya, Community of Madrid, Spain\" not found in cache. Geocoding...\n",
      "\"CERCEDA, El Boalo, Community of Madrid, Spain\" not found in cache. Geocoding...\n",
      "\"C. CO LORANCA, Fuenlabrada, Community of Madrid, Spain\" not found in cache. Geocoding...\n",
      "\"EVENTO-GETAFE, Getafe, Community of Madrid, Spain\" not found in cache. Geocoding...\n",
      "\"BME, Las Rozas de Madrid, Community of Madrid, Spain\" not found in cache. Geocoding...\n",
      "\"C/ Petra Kelly. 10(Pza. Laberinto), Leganés, Community of Madrid, Spain\" not found in cache. Geocoding...\n",
      "\"LOS MOLINOS, Los Molinos, Community of Madrid, Spain\" not found in cache. Geocoding...\n",
      "\"Avda. Ensanche de Vallecas - Valdecarros, Madrid, Community of Madrid, Spain\" not found in cache. Geocoding...\n",
      "\"LACTALIS, Madrid, Community of Madrid, Spain\" not found in cache. Geocoding...\n",
      "\"CC La Vaguada, Madrid, Community of Madrid, Spain\" not found in cache. Geocoding...\n",
      "\"IGLESIA EVANGELICA CRISTO VIVE, Madrid, Community of Madrid, Spain\" not found in cache. Geocoding...\n",
      "\"Av. Nuestra Señora de Fátima, Madrid, Community of Madrid, Spain\" not found in cache. Geocoding...\n",
      "\"SITEL-GFS, Madrid, Community of Madrid, Spain\" not found in cache. Geocoding...\n",
      "\"Avenida de Logroño, 120, Madrid, Community of Madrid, Spain\" not found in cache. Geocoding...\n",
      "\"Centro Comercial La Vaguada, Madrid, Community of Madrid, Spain\" not found in cache. Geocoding...\n",
      "\"CENTRO COMERCIAL MADRID SUR, Madrid, Community of Madrid, Spain\" not found in cache. Geocoding...\n",
      "\"Avenida Padre Piquer, 6 (Metro Campamento), Madrid, Community of Madrid, Spain\" not found in cache. Geocoding...\n",
      "\"VIDING ALCANTARA, Madrid, Community of Madrid, Spain\" not found in cache. Geocoding...\n",
      "\"C/ Camarena 278, Madrid, Community of Madrid, Spain\" not found in cache. Geocoding...\n",
      "\"TEATROS DEL CANAL, Madrid, Community of Madrid, Spain\" not found in cache. Geocoding...\n",
      "\"C/ Caleruega, 20 esquina C/ Condado de Treviño, Madrid, Community of Madrid, Spain\" not found in cache. Geocoding...\n",
      "\"C/ Congosto, Madrid, Community of Madrid, Spain\" not found in cache. Geocoding...\n",
      "\"C/ Doctor Esquerdo, 189, Madrid, Community of Madrid, Spain\" not found in cache. Geocoding...\n",
      "\"OPESA, Madrid, Community of Madrid, Spain\" not found in cache. Geocoding...\n",
      "\"LA ADRADA, Madrid, Community of Madrid, Spain\" not found in cache. Geocoding...\n",
      "\"VITHAS ARAVACA, Madrid, Community of Madrid, Spain\" not found in cache. Geocoding...\n",
      "\"López de Hoyos, 355, Madrid, Community of Madrid, Spain\" not found in cache. Geocoding...\n",
      "\"Centro Comercial Colombia, Madrid, Community of Madrid, Spain\" not found in cache. Geocoding...\n",
      "\"EDIFICIO BILMA, Madrid, Community of Madrid, Spain\" not found in cache. Geocoding...\n",
      "\"C/ Martínez de la Riva esquina C/ Peña Gorbea, Madrid, Community of Madrid, Spain\" not found in cache. Geocoding...\n",
      "\"C/ Méndez Álvaro, 32, Madrid, Community of Madrid, Spain\" not found in cache. Geocoding...\n",
      "\"C/ Orense, Madrid, Community of Madrid, Spain\" not found in cache. Geocoding...\n",
      "\"Palas del Rey (metro Las Tablas), Madrid, Community of Madrid, Spain\" not found in cache. Geocoding...\n",
      "\"C/ Princesa, 61, Madrid, Community of Madrid, Spain\" not found in cache. Geocoding...\n",
      "\"C/ Santa Engracia, 62-64 (Metro Iglesia), Madrid, Community of Madrid, Spain\" not found in cache. Geocoding...\n",
      "\"PALACIO DE HIELO, Madrid, Community of Madrid, Spain\" not found in cache. Geocoding...\n",
      "\"COLEGIO EDITH STEIN, Madrid, Community of Madrid, Spain\" not found in cache. Geocoding...\n",
      "\"Glorieta ROCIO DURCAL, Madrid, Community of Madrid, Spain\" not found in cache. Geocoding...\n",
      "\"Barrio El Espinillo, Madrid, Community of Madrid, Spain\" not found in cache. Geocoding...\n",
      "\"Paseo de la Florida, Madrid, Community of Madrid, Spain\" not found in cache. Geocoding...\n",
      "\"RETIRO, Madrid, Community of Madrid, Spain\" not found in cache. Geocoding...\n",
      "\"Manuel Becerra, Madrid, Community of Madrid, Spain\" not found in cache. Geocoding...\n",
      "\"Pº Alberto Palacios, 18, Madrid, Community of Madrid, Spain\" not found in cache. Geocoding...\n",
      "\"Pº de la Caastellana, 106, Madrid, Community of Madrid, Spain\" not found in cache. Geocoding...\n",
      "\"EDIFICIO REALIA, Madrid, Community of Madrid, Spain\" not found in cache. Geocoding...\n",
      "\"MUSEO THYSSEN, Madrid, Community of Madrid, Spain\" not found in cache. Geocoding...\n",
      "\"LIBERTY SEGUROS, Madrid, Community of Madrid, Spain\" not found in cache. Geocoding...\n",
      "\"Paseo Ginebra, Madrid, Community of Madrid, Spain\" not found in cache. Geocoding...\n",
      "\"COLEGIO SAGRADO CORAZON DE JESUS ROSALES, Madrid, Community of Madrid, Spain\" not found in cache. Geocoding...\n",
      "\"MERCADILLO RONDA DEL SUR, Madrid, Community of Madrid, Spain\" not found in cache. Geocoding...\n",
      "\"EDIFICIO ANTALIA, Madrid, Community of Madrid, Spain\" not found in cache. Geocoding...\n",
      "\"ENAGAS- S.A, Madrid, Community of Madrid, Spain\" not found in cache. Geocoding...\n",
      "\"Centro Comercial Colón, Majadahonda, Community of Madrid, Spain\" not found in cache. Geocoding...\n",
      "\"MECO, Meco, Community of Madrid, Spain\" not found in cache. Geocoding...\n",
      "\"NAVACERRADA, Navacerrada, Community of Madrid, Spain\" not found in cache. Geocoding...\n",
      "\"NAVALAGAMELLA, Navalagamella, Community of Madrid, Spain\" not found in cache. Geocoding...\n",
      "\"Jornada Paracuellos Sonrisa Sin Cáncer, Paracuellos de Jarama, Community of Madrid, Spain\" not found in cache. Geocoding...\n",
      "\"Parque Egido de la Fuente, Pinto, Community of Madrid, Spain\" not found in cache. Geocoding...\n",
      "\"Plaza Padre Vallet, Pozuelo de Alarcón, Community of Madrid, Spain\" not found in cache. Geocoding...\n",
      "\"RIVAS VACIAMADRID-COVIBAR, Rivas-Vaciamadrid, Community of Madrid, Spain\" not found in cache. Geocoding...\n",
      "\"C/ Fundición (Co Pablo I), Rivas-Vaciamadrid, Community of Madrid, Spain\" not found in cache. Geocoding...\n",
      "\"Rivas H2O, Rivas-Vaciamadrid, Community of Madrid, Spain\" not found in cache. Geocoding...\n",
      "\"OASIZ, Torrejón de Ardoz, Community of Madrid, Spain\" not found in cache. Geocoding...\n",
      "\"AENA- Centro Control Tráfico Aéreo, Torrejón de Ardoz, Community of Madrid, Spain\" not found in cache. Geocoding...\n",
      "\"Plaza de España (Renfe), Torrejón de Ardoz, Community of Madrid, Spain\" not found in cache. Geocoding...\n",
      "\"Avenida Viñuelas, 50, Tres Cantos, Community of Madrid, Spain\" not found in cache. Geocoding...\n",
      "\"Avd. Príncipe de Asturias, Villaviciosa de Odón, Community of Madrid, Spain\" not found in cache. Geocoding...\n"
     ]
    },
    {
     "data": {
      "application/vnd.jupyter.widget-view+json": {
       "model_id": "ce500dd828714510996c2983db549135",
       "version_major": 2,
       "version_minor": 0
      },
      "text/plain": [
       "direccion:   0%|          | 0/88 [00:00<?, ?it/s]"
      ]
     },
     "metadata": {},
     "output_type": "display_data"
    },
    {
     "name": "stdout",
     "output_type": "stream",
     "text": [
      "\"Av. de Bruselas, 24, Alcobendas, Community of Madrid, Spain\" not found in cache. Geocoding...\n",
      "\"Av. de Bruselas, 33-35, Alcobendas, Community of Madrid, Spain\" not found in cache. Geocoding...\n",
      "\"C/ Ramón y Cajal, 3 junto Pª Santa María de la Esperanza, Alcobendas, Community of Madrid, Spain\" not found in cache. Geocoding...\n",
      "\"Avenida de la Libertad frente Metro Puerta del Sur, Alcorcón, Community of Madrid, Spain\" not found in cache. Geocoding...\n",
      "\"Plaza de la Constitución, Algete, Community of Madrid, Spain\" not found in cache. Geocoding...\n",
      "\"Pza de la Constitución (Ayuntamiento), Aranjuez, Community of Madrid, Spain\" not found in cache. Geocoding...\n",
      "\"C/ Juan Carlos I, 40, Boadilla del Monte, Community of Madrid, Spain\" not found in cache. Geocoding...\n",
      "\"Plaza del Ayuntamiento, El Boalo, Community of Madrid, Spain\" not found in cache. Geocoding...\n",
      "\"Avenida Pablo Iglesias esquina C/ Madres de Mayo, Fuenlabrada, Community of Madrid, Spain\" not found in cache. Geocoding...\n",
      "\"avda de las ciudades, s/n junto Casa de Andalucia, Getafe, Community of Madrid, Spain\" not found in cache. Geocoding...\n",
      "\"C/ Tramontana, 2 Bis, Las Rozas de Madrid, Community of Madrid, Spain\" not found in cache. Geocoding...\n",
      "\"C/ Petra Kelly Frente nº 8 Pza Laberinto Barrio Leganés Norte, Leganés, Community of Madrid, Spain\" not found in cache. Geocoding...\n",
      "\"C/ Dalias junto Plaza Toros Los Molinos, Los Molinos, Community of Madrid, Spain\" not found in cache. Geocoding...\n",
      "\"E. Móvil en Avda. Ensanche de Vallecas 106, Madrid, Community of Madrid, Spain\" not found in cache. Geocoding...\n",
      "\"Equipo móvil C/ Juan de Mariana, 17B, Madrid, Community of Madrid, Spain\" not found in cache. Geocoding...\n",
      "\"Av. Monforte de Lemos, 103/ Av. Monforte de Lemos 107 cuando es CC., Madrid, Community of Madrid, Spain\" not found in cache. Geocoding...\n",
      "\"av. Gran Vía de Hortaleza, 30, Madrid, Community of Madrid, Spain\" not found in cache. Geocoding...\n",
      "\"Av. Nuestra Señora de Fátima, 49, Madrid, Community of Madrid, Spain\" not found in cache. Geocoding...\n",
      "\"Avda de Córdoba, 21, Madrid, Community of Madrid, Spain\" not found in cache. Geocoding...\n",
      "\"Avenida de Logroño, 120 junto farmacia fte. Ctro. de Salud, Madrid, Community of Madrid, Spain\" not found in cache. Geocoding...\n",
      "\"Avenida Monforte de Lemos, 103/ Av. Monforte de Lemos cuando es C.C., Madrid, Community of Madrid, Spain\" not found in cache. Geocoding...\n",
      "\"Avenida Pablo Neruda, 91, Madrid, Community of Madrid, Spain\" not found in cache. Geocoding...\n",
      "\"Avenida Padre Piquer, 6 frente CCo Madrid Madrid, Madrid, Community of Madrid, Spain\" not found in cache. Geocoding...\n",
      "\"C/ Alcantara, 26, Madrid, Community of Madrid, Spain\" not found in cache. Geocoding...\n",
      "\"C/ Camarena, 278, Madrid, Community of Madrid, Spain\" not found in cache. Geocoding...\n",
      "\"C/ Cea Bermúdez, 3, Madrid, Community of Madrid, Spain\" not found in cache. Geocoding...\n",
      "\"C/ Condado de Treviño esquina Avenida de San Luis, Madrid, Community of Madrid, Spain\" not found in cache. Geocoding...\n",
      "\"C/ Congosto, 17, Madrid, Community of Madrid, Spain\" not found in cache. Geocoding...\n",
      "\"C/ Doctor Esquerdo, 138, Madrid, Community of Madrid, Spain\" not found in cache. Geocoding...\n",
      "\"C/ Dr. Gómez Ulla esquina Plaza Manuel Becerra, Madrid, Community of Madrid, Spain\" not found in cache. Geocoding...\n",
      "\"C/ Gran Vía esquina C/ Montera, Red de San Luis, Madrid, Community of Madrid, Spain\" not found in cache. Geocoding...\n",
      "\"C/ La Adrada esquina C/ La Gavia, Madrid, Community of Madrid, Spain\" not found in cache. Geocoding...\n",
      "\"C/ La Salle12 en el parking del Hospital, Madrid, Community of Madrid, Spain\" not found in cache. Geocoding...\n",
      "\"C/ López de Hoyos, 355, Madrid, Community of Madrid, Spain\" not found in cache. Geocoding...\n",
      "\"C/ Manizales junto a CC Colombia, Madrid, Community of Madrid, Spain\" not found in cache. Geocoding...\n",
      "\"C/ Maria Tubau, 10, Madrid, Community of Madrid, Spain\" not found in cache. Geocoding...\n",
      "\"C/ Martínez de la Riva esquina C/ Peña Gorbea, Madrid, Community of Madrid, Spain\" not found in cache. Geocoding...\n",
      "\"C/ Méndez Álvaro, 72, Madrid, Community of Madrid, Spain\" not found in cache. Geocoding...\n",
      "\"C/ Orense, 16, Madrid, Community of Madrid, Spain\" not found in cache. Geocoding...\n",
      "\"C/ Palas del Rey 18-20 Jto Metro, Madrid, Community of Madrid, Spain\" not found in cache. Geocoding...\n",
      "\"C/ Princesa, 61, Madrid, Community of Madrid, Spain\" not found in cache. Geocoding...\n",
      "\"C/ Santa Engracia, 62-64, Madrid, Community of Madrid, Spain\" not found in cache. Geocoding...\n",
      "\"C/ Silvano, 77 junto Bar Lizarrán, Madrid, Community of Madrid, Spain\" not found in cache. Geocoding...\n",
      "\"C/ Solara, 5, Madrid, Community of Madrid, Spain\" not found in cache. Geocoding...\n",
      "\"C/Francos Rodríguez 69, Madrid, Community of Madrid, Spain\" not found in cache. Geocoding...\n",
      "\"Carretera Villaverde a Vallecas, 29 junto a farmacia Espinillo, Madrid, Community of Madrid, Spain\" not found in cache. Geocoding...\n",
      "\"Paseo de la Florida, 10, Madrid, Community of Madrid, Spain\" not found in cache. Geocoding...\n",
      "\"Plaza de la Independencia, Madrid, Community of Madrid, Spain\" not found in cache. Geocoding...\n",
      "\"Plaza de Manuel Becerra, Madrid, Community of Madrid, Spain\" not found in cache. Geocoding...\n",
      "\"Pº Alberto Palacios, 18, frente mercado, Madrid, Community of Madrid, Spain\" not found in cache. Geocoding...\n",
      "\"Pº de la Castellana, 106, Madrid, Community of Madrid, Spain\" not found in cache. Geocoding...\n",
      "\"Pº de la Castellana, 216, Madrid, Community of Madrid, Spain\" not found in cache. Geocoding...\n",
      "\"Pº del Prado, 8, Madrid, Community of Madrid, Spain\" not found in cache. Geocoding...\n",
      "\"Pº Doce Estrellas, 4, Madrid, Community of Madrid, Spain\" not found in cache. Geocoding...\n",
      "\"Pº Ginebra, 12-14 Esq. Avda. de Guadalajara, Madrid, Community of Madrid, Spain\" not found in cache. Geocoding...\n",
      "\"Pº Pintor Rosales, 66, Madrid, Community of Madrid, Spain\" not found in cache. Geocoding...\n",
      "\"Ronda del Sur, 239, Madrid, Community of Madrid, Spain\" not found in cache. Geocoding...\n",
      "\"rotonda C/ Albasanz frente al 16, Madrid, Community of Madrid, Spain\" not found in cache. Geocoding...\n",
      "\"eQUIPO Pº de los Olmos,19, Madrid, Community of Madrid, Spain\" not found in cache. Geocoding...\n",
      "\"Plaza Colón, Majadahonda, Community of Madrid, Spain\" not found in cache. Geocoding...\n",
      "\"C/ Cristo esquina C/ Del Prado Plaza Ramón y Cajal, Meco, Community of Madrid, Spain\" not found in cache. Geocoding...\n",
      "\"Plaza de los Ángeles, Navacerrada, Community of Madrid, Spain\" not found in cache. Geocoding...\n",
      "\"Plaza de España, Navalagamella, Community of Madrid, Spain\" not found in cache. Geocoding...\n",
      "\"Equipo Móvil en Avd. de los Deportes 1, Paracuellos de Jarama, Community of Madrid, Spain\" not found in cache. Geocoding...\n",
      "\"Parque Egido de la  Fuente, sobre la acera frente a Bar Gran Vía, Pinto, Community of Madrid, Spain\" not found in cache. Geocoding...\n",
      "\"Plaza Padre Vallet junto Cafetería Aurora, Pozuelo de Alarcón, Community of Madrid, Spain\" not found in cache. Geocoding...\n",
      "\"Avda. Armando Rodríguez Vallino Jto Pl. Blas De Otero, Rivas-Vaciamadrid, Community of Madrid, Spain\" not found in cache. Geocoding...\n",
      "\"C/ Fundición s/n junto mercadillo, Rivas-Vaciamadrid, Community of Madrid, Spain\" not found in cache. Geocoding...\n",
      "\"C/ Marie Curie, 4 C.C. Rivas H2O junto a la farmacia, Rivas-Vaciamadrid, Community of Madrid, Spain\" not found in cache. Geocoding...\n",
      "\"C/ Marie Curie, 4 C.C. Rivas H2O, junto a la farmacia, Rivas-Vaciamadrid, Community of Madrid, Spain\" not found in cache. Geocoding...\n",
      "\"C/ Marie Curie, 4 C.C.Rivas H2O junto a la farmacia, Rivas-Vaciamadrid, Community of Madrid, Spain\" not found in cache. Geocoding...\n",
      "\"Avenida Premio Nobel, 5, Torrejón de Ardoz, Community of Madrid, Spain\" not found in cache. Geocoding...\n",
      "\"Carr. de la Base Aérea Km 0.800, Torrejón de Ardoz, Community of Madrid, Spain\" not found in cache. Geocoding...\n",
      "\"Plaza de España junto a Renfe, Torrejón de Ardoz, Community of Madrid, Spain\" not found in cache. Geocoding...\n",
      "\"Avenida Viñuelas, 50, Tres Cantos, Community of Madrid, Spain\" not found in cache. Geocoding...\n",
      "\"Av. Ppe Asturias jto. C.C. Villacenter, Villaviciosa de Odón, Community of Madrid, Spain\" not found in cache. Geocoding...\n"
     ]
    }
   ],
   "source": [
    "new_geocoding_list = []\n",
    "for address_field in ['lugar', 'direccion']:\n",
    "    full_addresses = df_moviles.apply(get_full_address, axis=1, address_field=address_field)\n",
    "    for full_address in tqdm(full_addresses.drop_duplicates(), desc=address_field):\n",
    "        # Try to find address in cache\n",
    "        gc_row = geocoding_cache.loc[geocoding_cache.address == full_address]\n",
    "        if not gc_row.empty:\n",
    "            continue\n",
    "\n",
    "        # Address not found. Must geocode\n",
    "        print(f'\"{full_address}\" not found in cache. Geocoding...')\n",
    "        lng, lat, location_type, score = google_geocode_address(full_address)\n",
    "        new_geocoding_list.append({\n",
    "            'address': full_address,\n",
    "            'longitude': lng,\n",
    "            'latitude': lat,\n",
    "            'location_type': location_type,\n",
    "            'score': score,\n",
    "        })\n",
    "\n",
    "new_geocoding_df = pd.DataFrame(new_geocoding_list)\n",
    "geocoding_cache = pd.concat([geocoding_cache, new_geocoding_df])\n",
    "\n",
    "geocoding_cache = geocoding_cache.drop_duplicates()\n",
    "\n",
    "to_db(geocoding_cache, 'geocoding_cache')"
   ]
  },
  {
   "cell_type": "code",
   "execution_count": 10,
   "id": "matched-cream",
   "metadata": {},
   "outputs": [],
   "source": [
    "# Geocoding candidates based on \"lugar\"\n",
    "df_ubicacion = df_moviles[['lugar', 'localidad']].copy()\n",
    "df_ubicacion['address'] = df_ubicacion.apply(get_full_address, axis=1, address_field='lugar')\n",
    "df_ubicacion = pd.merge(df_ubicacion, geocoding_cache, on='address')\n",
    "\n",
    "# Geocoding candidates based on \"direccion\"\n",
    "df_direccion = df_moviles[['direccion', 'localidad']].copy()\n",
    "df_direccion['address'] = df_direccion.apply(get_full_address, axis=1, address_field='direccion')\n",
    "df_direccion = pd.merge(df_direccion, geocoding_cache, on='address')\n",
    "\n",
    "assert len(df_moviles) == len(df_ubicacion) == len(df_direccion)"
   ]
  },
  {
   "cell_type": "markdown",
   "id": "alternative-houston",
   "metadata": {},
   "source": [
    "Get the coordinates from the best candidate address (`direccion` or `lugar`)"
   ]
  },
  {
   "cell_type": "code",
   "execution_count": 11,
   "id": "obvious-specification",
   "metadata": {},
   "outputs": [],
   "source": [
    "df_moviles['latitude'] = None\n",
    "df_moviles['longitude'] = None\n",
    "for idx, row in df_moviles.iterrows():\n",
    "    score_ubicacion = df_ubicacion.loc[idx, 'score']\n",
    "    score_direccion = df_direccion.loc[idx, 'score']\n",
    "    if score_direccion > score_ubicacion:\n",
    "        lng = df_direccion.loc[idx, 'longitude']\n",
    "        lat = df_direccion.loc[idx, 'latitude']\n",
    "    else:\n",
    "        lng = df_ubicacion.loc[idx, 'longitude']\n",
    "        lat = df_ubicacion.loc[idx, 'latitude']\n",
    "        \n",
    "    df_moviles.loc[idx, 'longitude'] = lng\n",
    "    df_moviles.loc[idx, 'latitude'] = lat"
   ]
  },
  {
   "cell_type": "code",
   "execution_count": 12,
   "id": "wired-turkish",
   "metadata": {},
   "outputs": [],
   "source": [
    "db_fields = ['nombre', 'localidad', 'direccion', 'fecha', 'horario']\n",
    "nice_fields = ['Nombre', 'Localidad', 'Dirección', 'Fecha', 'Horario']\n",
    "df_moviles_keys = pd.DataFrame({'original': nice_fields, 'db': db_fields})\n",
    "\n",
    "df_moviles['url'] = df_moviles.apply(get_gmaps_url, axis=1)\n",
    "gdf_moviles = gdf_from_df(df_moviles)\n",
    "gdf_moviles = gdf_moviles.drop(columns=['lugar'])\n",
    "gdf_moviles['nombre'] = 'Equipo móvil en ' + df_moviles['lugar']\n",
    "gdf_moviles = gdf_moviles[db_fields + ['url', 'geometry']]"
   ]
  },
  {
   "cell_type": "code",
   "execution_count": 13,
   "id": "different-liberty",
   "metadata": {},
   "outputs": [],
   "source": [
    "run_query('DROP VIEW IF EXISTS puntos_moviles_geojson')\n",
    "\n",
    "to_db(gdf_moviles, 'puntos_moviles')\n",
    "to_db(df_moviles_keys, 'puntos_moviles_keys')\n",
    "\n",
    "run_query(TABLE_TO_GEOJSON_QUERY.format(t='puntos_moviles'))"
   ]
  },
  {
   "cell_type": "code",
   "execution_count": null,
   "id": "1d225a6b-0c5c-4008-97f0-bf212d3efde7",
   "metadata": {},
   "outputs": [],
   "source": []
  }
 ],
 "metadata": {
  "kernelspec": {
   "display_name": "Python 3 (ipykernel)",
   "language": "python",
   "name": "python3"
  },
  "language_info": {
   "codemirror_mode": {
    "name": "ipython",
    "version": 3
   },
   "file_extension": ".py",
   "mimetype": "text/x-python",
   "name": "python",
   "nbconvert_exporter": "python",
   "pygments_lexer": "ipython3",
   "version": "3.11.6"
  }
 },
 "nbformat": 4,
 "nbformat_minor": 5
}
