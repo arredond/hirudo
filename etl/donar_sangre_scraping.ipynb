{
 "cells": [
  {
   "cell_type": "markdown",
   "id": "published-ivory",
   "metadata": {},
   "source": [
    "# Puntos de donación de sangre de la Comunidad de Madrid"
   ]
  },
  {
   "cell_type": "code",
   "execution_count": null,
   "id": "loose-tulsa",
   "metadata": {},
   "outputs": [],
   "source": [
    "import pandas as pd\n",
    "\n",
    "from tqdm.auto import tqdm\n",
    "\n",
    "from utils.db import format_column, from_db, gdf_from_df, run_query, to_db\n",
    "from utils.geocode import google_geocode_address\n",
    "from utils.crawl import extraer_puntos_fijos, extraer_puntos_moviles"
   ]
  },
  {
   "cell_type": "code",
   "execution_count": null,
   "id": "impressive-tracker",
   "metadata": {},
   "outputs": [],
   "source": [
    "def get_full_address(row, address_field):\n",
    "    return ', '.join([row[address_field], row.localidad, 'Community of Madrid', 'Spain'])\n",
    "\n",
    "\n",
    "def get_gmaps_url(row):\n",
    "    return f'https://www.google.com/maps?q={row.latitude}+{row.longitude}'\n",
    "\n",
    "\n",
    "with open('../sql/table_to_geojson.sql') as fp:\n",
    "    TABLE_TO_GEOJSON_QUERY = fp.read()"
   ]
  },
  {
   "cell_type": "markdown",
   "id": "wireless-american",
   "metadata": {},
   "source": [
    "## Puntos fijos\n",
    "\n",
    "Los hospitales son fáciles de scrapear pero hay otros tres puntos que aparecen desordenados en [la web](https://www.comunidad.madrid/servicios/salud/donacion-sangre#puntos-donacion).\n",
    "\n",
    "Los metemos a mano"
   ]
  },
  {
   "cell_type": "code",
   "execution_count": null,
   "id": "affiliated-alias",
   "metadata": {},
   "outputs": [],
   "source": [
    "puntos_fijos_no_hospitales = [\n",
    "    {\n",
    "        'nombre': 'Centro de Transfusión de la Comunidad de Madrid',\n",
    "        'id_del_centro': None,\n",
    "        'url': None,\n",
    "        'horario_de_donaciones': 'De 8:30 a 21 horas, de lunes a sábado (excepto festivos).',\n",
    "        'ubicacion_de_las_salas_de_donacion': None,\n",
    "        'observaciones': 'Cuenta con párking para donantes. Medios de transporte: Autobuses: 71, 130, 8. Metro: Valdebernardo (Línea 9)',\n",
    "        'informacion_al_donante': 'Tlfno: 900 303 530',\n",
    "        'direccion_postal': 'esquina con Avenida de las Comunidades, Av. de la Democracia, s/n',\n",
    "        'municipio': 'Madrid',\n",
    "        'codigo_postal': '28032',\n",
    "        'informacion_general': '900 303 530',\n",
    "        'latitude': 40.396334,\n",
    "        'longitude': -3.615422,\n",
    "    },\n",
    "    {\n",
    "        'nombre': 'Unidad móvil de la Puerta del Sol',\n",
    "        'id_del_centro': None,\n",
    "        'url': None,\n",
    "        'horario_de_donaciones': 'De lunes a viernes de 11 a 21 h. Sábados, domingos y festivos de 10 a 21h.',\n",
    "        'ubicacion_de_las_salas_de_donacion': None,\n",
    "        'observaciones': None,\n",
    "        'informacion_al_donante': None,\n",
    "        'direccion_postal': 'Prta. del Sol, s/n',\n",
    "        'municipio': 'Madrid',\n",
    "        'codigo_postal': '28013',\n",
    "        'informacion_general': None,\n",
    "        'latitude': 40.416806,\n",
    "        'longitude': -3.703911,\n",
    "    },\n",
    "    {\n",
    "        'nombre': 'Unidad de Extracción de Sangre de Cruz Roja',\n",
    "        'id_del_centro': None,\n",
    "        'url': None,\n",
    "        'horario_de_donaciones': 'De lunes a viernes. De 9 a 20:30 h. (excepto festivos).',\n",
    "        'ubicacion_de_las_salas_de_donacion': None,\n",
    "        'observaciones': None,\n",
    "        'informacion_al_donante': 'Tlfno: 900 303 530',\n",
    "        'direccion_postal': 'c/ Juan Montalvo, nº 3.',\n",
    "        'municipio': 'Madrid',\n",
    "        'codigo_postal': '28040',\n",
    "        'informacion_general': None,\n",
    "        'latitude': 40.447684,\n",
    "        'longitude': -3.709592,\n",
    "    }\n",
    "]"
   ]
  },
  {
   "cell_type": "markdown",
   "id": "5bc16ec6-c96f-4f33-8b80-c0de8ae5704f",
   "metadata": {},
   "source": [
    "# Puntos Fijos\n",
    "\n",
    "Juntamos los pocos que no salen en la web"
   ]
  },
  {
   "cell_type": "code",
   "execution_count": null,
   "id": "dd434e92-4817-4c85-91f1-5eafc1935163",
   "metadata": {},
   "outputs": [],
   "source": [
    "df_fijos = extraer_puntos_fijos()\n",
    "df_fijos_keys = pd.DataFrame({'original': df_fijos.columns, 'db': df_fijos.columns.map(format_column)})\n",
    "df_fijos.columns = df_fijos.columns.map(format_column)\n",
    "df_fijos = pd.concat([pd.DataFrame(puntos_fijos_no_hospitales), df_fijos], ignore_index=True)\n",
    "df_fijos['gmaps_url'] = df_fijos.apply(get_gmaps_url, axis=1)\n",
    "\n",
    "gdf_fijos = gdf_from_df(df_fijos)"
   ]
  },
  {
   "cell_type": "markdown",
   "id": "compound-disclaimer",
   "metadata": {},
   "source": [
    "Tenemos que eliminar y recrear la vista de `geojson` dependiente de la tabla de puntos fijos"
   ]
  },
  {
   "cell_type": "code",
   "execution_count": null,
   "id": "enhanced-poverty",
   "metadata": {},
   "outputs": [],
   "source": [
    "run_query('DROP VIEW IF EXISTS puntos_fijos_geojson')\n",
    "\n",
    "to_db(gdf_fijos, 'puntos_fijos')\n",
    "to_db(df_fijos_keys, 'puntos_fijos_keys')\n",
    "\n",
    "\n",
    "run_query(TABLE_TO_GEOJSON_QUERY.format(t='puntos_fijos'))"
   ]
  },
  {
   "cell_type": "markdown",
   "id": "surprised-parcel",
   "metadata": {},
   "source": [
    "## Puntos móviles\n",
    "\n",
    "Muy similar a los puntos fijos, sólo que no tienen web individual y pillamos todos los atributos de una lista"
   ]
  },
  {
   "cell_type": "code",
   "execution_count": null,
   "id": "1b5df3b8-304f-4c94-b012-bfaf243fc332",
   "metadata": {},
   "outputs": [],
   "source": [
    "df_moviles = extraer_puntos_moviles()\n",
    "df_moviles.columns = df_moviles.columns.map(format_column)\n",
    "\n",
    "for text in ['Equipo móvil en ', 'E Móvil en ', 'Equipo Móvil detrás ']:\n",
    "    df_moviles['direccion'] = df_moviles['direccion'].map(lambda d: d.replace(text, ''))"
   ]
  },
  {
   "cell_type": "markdown",
   "id": "potential-pursuit",
   "metadata": {},
   "source": [
    "Geocode and upload. We geocode both the `lugar` and `direccion` and keep their scores\n",
    "based on the `location_type` (ROOFTOP, etc).\n",
    "\n",
    "Before geocoding, try to use the cache"
   ]
  },
  {
   "cell_type": "code",
   "execution_count": null,
   "id": "differential-receiver",
   "metadata": {},
   "outputs": [],
   "source": [
    "try:\n",
    "    geocoding_cache = from_db('geocoding_cache')\n",
    "except Exception:\n",
    "    geocoding_cache = pd.DataFrame(columns=['address', 'longitude', 'latitude', 'location_type', 'score'])"
   ]
  },
  {
   "cell_type": "code",
   "execution_count": null,
   "id": "saved-chancellor",
   "metadata": {
    "collapsed": true,
    "jupyter": {
     "outputs_hidden": true
    },
    "scrolled": true
   },
   "outputs": [],
   "source": [
    "new_geocoding_list = []\n",
    "for address_field in ['lugar', 'direccion']:\n",
    "    full_addresses = df_moviles.apply(get_full_address, axis=1, address_field=address_field)\n",
    "    for full_address in tqdm(full_addresses.drop_duplicates(), desc=address_field):\n",
    "        # Try to find address in cache\n",
    "        gc_row = geocoding_cache.loc[geocoding_cache.address == full_address]\n",
    "        if not gc_row.empty:\n",
    "            continue\n",
    "\n",
    "        # Address not found. Must geocode\n",
    "        print(f'\"{full_address}\" not found in cache. Geocoding...')\n",
    "        lng, lat, location_type, score = google_geocode_address(full_address)\n",
    "        new_geocoding_list.append({\n",
    "            'address': full_address,\n",
    "            'longitude': lng,\n",
    "            'latitude': lat,\n",
    "            'location_type': location_type,\n",
    "            'score': score,\n",
    "        })\n",
    "\n",
    "new_geocoding_df = pd.DataFrame(new_geocoding_list)\n",
    "geocoding_cache = pd.concat([geocoding_cache, new_geocoding_df])\n",
    "\n",
    "geocoding_cache = geocoding_cache.drop_duplicates()\n",
    "\n",
    "to_db(geocoding_cache, 'geocoding_cache')"
   ]
  },
  {
   "cell_type": "code",
   "execution_count": null,
   "id": "matched-cream",
   "metadata": {},
   "outputs": [],
   "source": [
    "# Geocoding candidates based on \"lugar\"\n",
    "df_ubicacion = df_moviles[['lugar', 'localidad']].copy()\n",
    "df_ubicacion['address'] = df_ubicacion.apply(get_full_address, axis=1, address_field='lugar')\n",
    "df_ubicacion = pd.merge(df_ubicacion, geocoding_cache, on='address')\n",
    "\n",
    "# Geocoding candidates based on \"direccion\"\n",
    "df_direccion = df_moviles[['direccion', 'localidad']].copy()\n",
    "df_direccion['address'] = df_direccion.apply(get_full_address, axis=1, address_field='direccion')\n",
    "df_direccion = pd.merge(df_direccion, geocoding_cache, on='address')\n",
    "\n",
    "assert len(df_moviles) == len(df_ubicacion) == len(df_direccion)"
   ]
  },
  {
   "cell_type": "markdown",
   "id": "alternative-houston",
   "metadata": {},
   "source": [
    "Get the coordinates from the best candidate address (`direccion` or `lugar`)"
   ]
  },
  {
   "cell_type": "code",
   "execution_count": null,
   "id": "obvious-specification",
   "metadata": {},
   "outputs": [],
   "source": [
    "df_moviles['latitude'] = None\n",
    "df_moviles['longitude'] = None\n",
    "for idx, row in df_moviles.iterrows():\n",
    "    score_ubicacion = df_ubicacion.loc[idx, 'score']\n",
    "    score_direccion = df_direccion.loc[idx, 'score']\n",
    "    if score_direccion > score_ubicacion:\n",
    "        lng = df_direccion.loc[idx, 'longitude']\n",
    "        lat = df_direccion.loc[idx, 'latitude']\n",
    "    else:\n",
    "        lng = df_ubicacion.loc[idx, 'longitude']\n",
    "        lat = df_ubicacion.loc[idx, 'latitude']\n",
    "        \n",
    "    df_moviles.loc[idx, 'longitude'] = lng\n",
    "    df_moviles.loc[idx, 'latitude'] = lat"
   ]
  },
  {
   "cell_type": "code",
   "execution_count": null,
   "id": "wired-turkish",
   "metadata": {},
   "outputs": [],
   "source": [
    "db_fields = ['nombre', 'localidad', 'direccion', 'fecha', 'horario']\n",
    "nice_fields = ['Nombre', 'Localidad', 'Dirección', 'Fecha', 'Horario']\n",
    "df_moviles_keys = pd.DataFrame({'original': nice_fields, 'db': db_fields})\n",
    "\n",
    "df_moviles['url'] = df_moviles.apply(get_gmaps_url, axis=1)\n",
    "gdf_moviles = gdf_from_df(df_moviles)\n",
    "gdf_moviles = gdf_moviles.drop(columns=['lugar'])\n",
    "gdf_moviles['nombre'] = 'Equipo móvil en ' + df_moviles['lugar']\n",
    "gdf_moviles = gdf_moviles[db_fields + ['url', 'geometry']]"
   ]
  },
  {
   "cell_type": "code",
   "execution_count": null,
   "id": "different-liberty",
   "metadata": {},
   "outputs": [],
   "source": [
    "run_query('DROP VIEW IF EXISTS puntos_moviles_geojson')\n",
    "\n",
    "to_db(gdf_moviles, 'puntos_moviles')\n",
    "to_db(df_moviles_keys, 'puntos_moviles_keys')\n",
    "\n",
    "run_query(TABLE_TO_GEOJSON_QUERY.format(t='puntos_moviles'))"
   ]
  }
 ],
 "metadata": {
  "kernelspec": {
   "display_name": "Python 3 (ipykernel)",
   "language": "python",
   "name": "python3"
  },
  "language_info": {
   "codemirror_mode": {
    "name": "ipython",
    "version": 3
   },
   "file_extension": ".py",
   "mimetype": "text/x-python",
   "name": "python",
   "nbconvert_exporter": "python",
   "pygments_lexer": "ipython3",
   "version": "3.11.6"
  }
 },
 "nbformat": 4,
 "nbformat_minor": 5
}
