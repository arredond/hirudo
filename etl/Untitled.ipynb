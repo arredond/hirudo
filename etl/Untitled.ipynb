{
 "cells": [
  {
   "cell_type": "code",
   "execution_count": 2,
   "id": "1b82a882-9ec2-43f4-8544-ced8e026750d",
   "metadata": {},
   "outputs": [],
   "source": [
    "from utils.crawl import SESSION, URL_IMAGEN, BeautifulSoup"
   ]
  },
  {
   "cell_type": "code",
   "execution_count": 3,
   "id": "ed98032c-0b4d-4ee7-919b-3c9ce3a4ba22",
   "metadata": {},
   "outputs": [],
   "source": [
    "html = BeautifulSoup(SESSION.get(URL_IMAGEN).content)"
   ]
  },
  {
   "cell_type": "code",
   "execution_count": 13,
   "id": "c1ed11e0-aed8-437f-9fa0-d51dea38a9d6",
   "metadata": {},
   "outputs": [],
   "source": [
    "def get_reserve_levels():\n",
    "    html = BeautifulSoup(SESSION.get(URL_IMAGEN).content)\n",
    "    img = html.find(attrs={\"id\": \"image-link-banner-imagen-link-parrafo\"}).find(\"img\")\n",
    "    return (img.attrs[\"src\"], img.attrs[\"alt\"])"
   ]
  },
  {
   "cell_type": "code",
   "execution_count": 14,
   "id": "52a036a9-c11d-40ca-91c8-d4f1dec2f4bb",
   "metadata": {},
   "outputs": [
    {
     "data": {
      "text/plain": [
       "('https://www.comunidad.madrid/sites/default/files/styles/imagen_enlace_opcional/public/doc/sanidad/info/niveles_de_reserva_sangre_29_de_abril_2.png?itok=HfD9j-vQ',\n",
       " 'Las gotas de los grupos B+ y AB+ están en verde. Las del grupos A- y O+ están en amarillo. Las de los grupos O-, A+, AB- y B- están en rojo.')"
      ]
     },
     "execution_count": 14,
     "metadata": {},
     "output_type": "execute_result"
    }
   ],
   "source": [
    "get_reserve_levels()"
   ]
  },
  {
   "cell_type": "code",
   "execution_count": 12,
   "id": "6b749f52-6e0f-4bbb-a24f-236108209947",
   "metadata": {},
   "outputs": [
    {
     "data": {
      "text/plain": [
       "'https://www.comunidad.madrid/sites/default/files/styles/imagen_enlace_opcional/public/doc/sanidad/info/niveles_de_reserva_sangre_29_de_abril_2.png?itok=HfD9j-vQ'"
      ]
     },
     "execution_count": 12,
     "metadata": {},
     "output_type": "execute_result"
    }
   ],
   "source": [
    "html.find(attrs={\"id\": \"image-link-banner-imagen-link-parrafo\"}).find(\"img\").attrs[\"src\"]"
   ]
  },
  {
   "cell_type": "code",
   "execution_count": 7,
   "id": "d9078f2b-2091-4eca-b0e4-2453657a3220",
   "metadata": {},
   "outputs": [
    {
     "data": {
      "text/plain": [
       "[<img alt=\"Comunidad de Madrid\" class=\"logo logo--big\" src=\"https://www.comunidad.madrid/sites/all/themes/drpl/logo.png\"/>,\n",
       " <img alt=\"Comunidad de Madrid\" class=\"logo logo--small\" src=\"https://www.comunidad.madrid/sites/all/themes/drpl/logo_responsive.png\"/>,\n",
       " <img alt=\"Atención al ciudadano\" src=\"/sites/all/themes/drpl/img/Logo_012.png\" title=\"Atención al ciudadano\"/>,\n",
       " <img alt=\"Donación de sangre\" class=\"img-responsive\" src=\"https://www.comunidad.madrid/sites/default/files/styles/header_featured_image/public/cabecera2.jpg?itok=w6tbB1HD&amp;c=8a6e439529739d1bd693283421539c03\" title=\"Donación de sangre\" typeof=\"foaf:Image\"/>,\n",
       " <img alt=\"Las gotas de los grupos B+ y AB+ están en verde. Las del grupos A- y O+ están en amarillo. Las de los grupos O-, A+, AB- y B- están en rojo.\" class=\"img-responsive\" src=\"https://www.comunidad.madrid/sites/default/files/styles/imagen_enlace_opcional/public/doc/sanidad/info/niveles_de_reserva_sangre_29_de_abril_2.png?itok=HfD9j-vQ\" typeof=\"foaf:Image\"/>,\n",
       " <img alt=\"imagen maratones de donación de sangre otoño 23\" class=\"img-responsive\" src=\"https://www.comunidad.madrid/sites/default/files/styles/imagen_enlace_opcional/public/doc/sanidad/patron_maraton_otono_2023.jpg?itok=NjWWGygk\" title=\"Acceso a información sobre donación de sangre y celebración de maratones de donación en hospitales públicos\" typeof=\"foaf:Image\"/>,\n",
       " <img alt=\"huellas rojas con lemas dentro: No son importantes los pasos que das sino las huellas que dejas\" class=\"img-responsive\" src=\"https://www.comunidad.madrid/sites/default/files/styles/imagen_enlace_opcional/public/doc/sanidad/comu/huellasrojo-removebg-preview.png?itok=dezAhiuQ\" typeof=\"foaf:Image\"/>,\n",
       " <img alt=\"Dona sangre con regularidad. Nos esperes a que entremos en alerta.\" class=\"img-responsive\" src=\"https://www.comunidad.madrid/sites/default/files/styles/imagen_enlace_opcional/public/aud/sanidad/cabecera_twitter_dona_con_regularidad.png?itok=KQ6LwyPm\" typeof=\"foaf:Image\"/>,\n",
       " <img alt=\"Donantes de sangre\" class=\"media-element file-default img-responsive\" data-delta=\"11\" height=\"576\" src=\"/sites/default/files/doc/sanidad/donantes1.jpg\" style=\"width: 500px; height: 150px;\" title=\"Donantes\" typeof=\"foaf:Image\" width=\"1918\"/>,\n",
       " <img alt=\"Pinchazo en el dedo para comprobar nivel de la hemoglobina\" class=\"media-element file-default img-responsive\" data-delta=\"14\" height=\"2592\" src=\"/sites/default/files/doc/sanidad/transfusiones3.jpg\" style=\"height: 100px; width: 150px;\" title=\"Comprobación del nivel de hemoglobina\" typeof=\"foaf:Image\" width=\"3872\"/>,\n",
       " <img alt=\"Persona donando sangre\" class=\"media-element file-default img-responsive\" data-delta=\"15\" height=\"1728\" src=\"/sites/default/files/doc/sanidad/2donando.jpg\" style=\"height: 113px; width: 150px;\" title=\"Una donación de sangre\" typeof=\"foaf:Image\" width=\"2304\"/>,\n",
       " <img alt=\"Ejerciendo presión sobre el pinchazo tras la donación de sangre\" class=\"media-element file-default img-responsive\" data-delta=\"17\" height=\"2592\" src=\"/sites/default/files/doc/sanidad/transfusiones13_0.jpg\" style=\"height: 106px; width: 150px;\" title=\"Ejerciendo presión sobre el pinchazo tras la donación de sangre\" typeof=\"foaf:Image\" width=\"3679\"/>,\n",
       " <img alt=\"Interrogaciones\" class=\"media-element file-default img-responsive\" data-delta=\"13\" height=\"364\" src=\"/sites/default/files/doc/sanidad/preguntas2.jpg\" style=\"width: 500px; height: 150px;\" title=\"Preguntas frecuentes\" typeof=\"foaf:Image\" width=\"1055\"/>,\n",
       " <img alt=\"Bolsas de sangre\" class=\"media-element file-default img-responsive\" data-delta=\"5\" height=\"576\" src=\"/sites/default/files/doc/sanidad/que_es_la_sangre.jpg\" style=\"height: 150px; width: 500px;\" title=\"Bolsas de sangre\" typeof=\"foaf:Image\" width=\"1918\"/>,\n",
       " <img alt=\"Ilustración del líquido plasma en la sangre\" class=\"media-element file-default img-responsive\" data-delta=\"11\" height=\"452\" src=\"/sites/default/files/aud/sanidad/plasma.jpg\" style=\"height: 71px; width: 150px;\" title=\"Plasma\" typeof=\"foaf:Image\" width=\"960\"/>,\n",
       " <img alt=\"Ilustración de glóbulos rojos\" class=\"media-element file-default img-responsive\" data-delta=\"9\" height=\"960\" src=\"/sites/default/files/doc/sanidad/globulos_rojos.jpg\" style=\"height: 113px; width: 150px;\" title=\"Glóbulos rojos\" typeof=\"foaf:Image\" width=\"1280\"/>,\n",
       " <img alt=\"Ilustración de glóbulos blancos\" class=\"media-element file-default img-responsive\" data-delta=\"10\" height=\"1920\" src=\"/sites/default/files/doc/sanidad/globulos_blanco.jpg\" style=\"height: 198px; width: 150px;\" title=\"Glóbulos blancos\" typeof=\"foaf:Image\" width=\"1454\"/>,\n",
       " <img alt=\"Plaquetas\" class=\"media-element file-default img-responsive\" data-delta=\"8\" height=\"428\" src=\"/sites/default/files/doc/sanidad/plaquetas2.jpg\" style=\"height: 105px; width: 150px;\" title=\"Plaquetas\" typeof=\"foaf:Image\" width=\"612\"/>,\n",
       " <img alt=\"Espacio con máquinas de fraccionamiento donde se separan los componentes de la sangre\" class=\"media-element file-default img-responsive\" data-delta=\"4\" height=\"2140\" src=\"/sites/default/files/doc/sanidad/que_hacemos_contusangre2.jpg\" style=\"height: 150px; width: 500px;\" title=\"Procesamiento de la sangre\" typeof=\"foaf:Image\" width=\"5697\"/>,\n",
       " <img alt=\"Máquina de fraccionamiento de la sangre\" class=\"media-element file-default img-responsive\" data-delta=\"12\" height=\"3388\" src=\"/sites/default/files/doc/sanidad/_fb_5149.jpg\" style=\"height: 100px; width: 150px;\" title=\"Máquina de fraccionamiento de la sangre\" typeof=\"foaf:Image\" width=\"5087\"/>,\n",
       " <img alt=\"Estudio de serología\" class=\"media-element file-default img-responsive\" data-delta=\"13\" height=\"2950\" src=\"/sites/default/files/doc/sanidad/_fb_5329.jpg\" style=\"height: 96px; width: 150px;\" title=\"Estudio de serolo´gia\" typeof=\"foaf:Image\" width=\"4616\"/>,\n",
       " <img alt=\"Cámara de conservación de los glóbulos rojos\" class=\"media-element file-default img-responsive\" data-delta=\"14\" height=\"3412\" src=\"/sites/default/files/doc/sanidad/_fb_5191.jpg\" style=\"height: 89px; width: 150px;\" title=\"Cámara de conservación de los glóbulos rojos\" typeof=\"foaf:Image\" width=\"5760\"/>,\n",
       " <img alt=\"Bolsas de plaquetas\" class=\"media-element file-default img-responsive\" data-delta=\"15\" height=\"2702\" src=\"/sites/default/files/doc/sanidad/plaquetas.jpg\" style=\"height: 98px; width: 150px;\" title=\"Bolsas de plaquetas\" typeof=\"foaf:Image\" width=\"4154\"/>,\n",
       " <img alt=\"Contenedor de conservación de plasma\" class=\"media-element file-default img-responsive\" data-delta=\"16\" height=\"5569\" src=\"/sites/default/files/doc/sanidad/_fb_5215.jpg\" style=\"height: 187px; width: 150px;\" title=\"Contenedor de conservación de plasma\" typeof=\"foaf:Image\" width=\"3728\"/>,\n",
       " <img src=\"https://img.youtube.com/vi/-RnqObcp180/hqdefault.jpg\" width=\"100%\"/>,\n",
       " <img alt=\"Bolsa de sangre\" class=\"media-element file-default img-responsive\" data-delta=\"1\" height=\"400\" src=\"/sites/default/files/doc/sanidad/bolsa_de_sangre4.jpg\" style=\"height: 266px; width: 175px; float: left; margin-left: 40px; margin-right: 40px;\" title=\"Bolsa de sangre4\" typeof=\"foaf:Image\" width=\"263\"/>,\n",
       " <img alt=\"5 bolsas de sangre en hilera y una bolsa de plaquetas debajo\" class=\"img-responsive\" src=\"https://www.comunidad.madrid/sites/default/files/styles/imagen_enlace_opcional/public/doc/sanidad/comu/_fb_5160.jpg?itok=g4iJIjwW\" typeof=\"foaf:Image\"/>,\n",
       " <img alt=\"Plaquetas en el armario agitador\" class=\"img-responsive\" src=\"https://www.comunidad.madrid/sites/default/files/styles/imagen_enlace_opcional/public/doc/sanidad/comu/_fb_5195.jpg?itok=wyH6CTjm\" typeof=\"foaf:Image\"/>,\n",
       " <img alt=\"Donante de aféresis junto a la máquina separadora\" class=\"img-responsive\" src=\"https://www.comunidad.madrid/sites/default/files/styles/imagen_enlace_opcional/public/doc/sanidad/comu/copia_2_de_fb_5315.jpg?itok=ZykbGTZ8\" typeof=\"foaf:Image\"/>,\n",
       " <img alt=\"Sillón de donación\" class=\"img-responsive\" src=\"https://www.comunidad.madrid/sites/default/files/styles/imagen_enlace_opcional/public/doc/sanidad/comu/_fb_5118.jpg?itok=SM5GiWLE\" typeof=\"foaf:Image\"/>,\n",
       " <img alt=\"Gráficos estadística\" class=\"img-responsive\" src=\"https://www.comunidad.madrid/sites/default/files/styles/horizontal/public/aud/sanidad/estadistica.jpg?itok=pYrU-9HT&amp;c=209346e45d09e44b22ad3e341722034e\" title=\"Gráficos estadística\" typeof=\"foaf:Image\"/>,\n",
       " <img alt=\"imagen de un cuestionario con una mano que pone una pegatina\" class=\"img-responsive\" src=\"https://www.comunidad.madrid/sites/default/files/styles/imagen_enlace_opcional/public/doc/sanidad/comu/foto_web.png?itok=5I4jvQbs\" typeof=\"foaf:Image\"/>,\n",
       " <img alt=\"Imagen del centro de transfusiones\" class=\"img-responsive\" src=\"https://www.comunidad.madrid/sites/default/files/styles/horizontal/public/img/fachada_ctcm.jpg?itok=iKVP-0qP&amp;c=7cd3553a0266210d1d9b1ad0f3e29476\" title=\"Imagen del centro de transfusiones\" typeof=\"foaf:Image\"/>,\n",
       " <img alt=\"Una mujer en una mesa de despacho\" class=\"media-element file-default img-responsive\" data-delta=\"1\" height=\"557\" src=\"/sites/default/files/doc/sanidad/oficina_atencion_donante2.jpg\" style=\"height: 134px; width: 500px;\" title=\"Oficina de Atención al Donante\" typeof=\"foaf:Image\" width=\"2081\"/>,\n",
       " <img alt=\"ilustración de unos libros de leyes\" class=\"media-element file-default img-responsive\" data-delta=\"2\" height=\"146\" src=\"/sites/default/files/doc/sanidad/leyes3.jpg\" style=\"height: 134px; width: 500px;\" title=\"Referencias legales\" typeof=\"foaf:Image\" width=\"924\"/>]"
      ]
     },
     "execution_count": 7,
     "metadata": {},
     "output_type": "execute_result"
    }
   ],
   "source": [
    "html.find_all(\"img\")"
   ]
  },
  {
   "cell_type": "code",
   "execution_count": null,
   "id": "c11e744a-923a-405d-8890-617faeeed475",
   "metadata": {},
   "outputs": [],
   "source": [
    "def"
   ]
  },
  {
   "cell_type": "code",
   "execution_count": 1,
   "id": "9b3a1fe6-eafa-49ad-98b7-358984a34d52",
   "metadata": {},
   "outputs": [],
   "source": [
    "from utils.scraping_requests import extraer_puntos_fijos, extraer_puntos_moviles"
   ]
  }
 ],
 "metadata": {
  "kernelspec": {
   "display_name": "Python 3 (ipykernel)",
   "language": "python",
   "name": "python3"
  },
  "language_info": {
   "codemirror_mode": {
    "name": "ipython",
    "version": 3
   },
   "file_extension": ".py",
   "mimetype": "text/x-python",
   "name": "python",
   "nbconvert_exporter": "python",
   "pygments_lexer": "ipython3",
   "version": "3.11.6"
  }
 },
 "nbformat": 4,
 "nbformat_minor": 5
}
